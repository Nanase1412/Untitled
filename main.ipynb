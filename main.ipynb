{
 "cells": [
  {
   "cell_type": "code",
   "execution_count": 7,
   "metadata": {},
   "outputs": [],
   "source": [
    "import numpy as np\n",
    "from scipy.integrate import dblquad\n",
    "from scipy.optimize import fsolve\n",
    "import sympy as sp\n",
    "import matplotlib.pyplot as plt"
   ]
  },
  {
   "cell_type": "code",
   "execution_count": 8,
   "metadata": {},
   "outputs": [],
   "source": [
    "# 为避免混淆，用x,y表示sympy变量，x1,x2,x3表示实际坐标\n",
    "x, y = sp.symbols('x y')\n",
    "a, b, c, d, e, f = sp.symbols('a b c d e f')\n",
    "func0 = a * x * y + b * x ** 2 + c * y ** 2 + d * x + e * y + f  # 曲面函数可修改\n",
    "\n",
    "def metric(x1, x2, x3):\n",
    "    return np.array([[1, 0, 0], [0, 1, 0], [0, 0, 1]])  # 度规可修改\n",
    "\n",
    "def area_element(x1, x2, func1):\n",
    "    dfdx = sp.diff(func1, x)\n",
    "    dfdy = sp.diff(func1, y)\n",
    "    x3 = func1.evalf(subs={sp.symbols('x'): x1, sp.symbols('y'): x2})\n",
    "    dzdx = dfdx.evalf(subs={sp.symbols('x'): x1, sp.symbols('y'): x2})\n",
    "    dzdy = dfdy.evalf(subs={sp.symbols('x'): x1, sp.symbols('y'): x2})\n",
    "    g = metric(x1, x2, x3)\n",
    "    return sp.sqrt((g[0][0]+g[2][2]*dzdx**2)*(g[1][1]+g[2][2]*dzdy**2)-(g[0][1]+g[2][2]*dzdx*dzdy)**2)\n",
    "\n",
    "def boundary(x1, x2):\n",
    "    return x1 ** 2 + x2 ** 2 - 1  # 边界条件可修改，这里是单位圆\n",
    "\n",
    "def y_bounds(x1):\n",
    "    return [-np.sqrt(1 - x1 ** 2), np.sqrt(1 - x1 ** 2)]  # 这里要跟上面的边界条件一起修改\n",
    "\n",
    "points = [(1, 0, 1), (0, 1, 2), (-1, 0, 3), (0, -1, 4)]  # 边界上的四个点，要与上面的边界条件一同修改"
   ]
  },
  {
   "cell_type": "code",
   "execution_count": 9,
   "metadata": {},
   "outputs": [],
   "source": [
    "def calculate_function(AB):  # 给定a,b,根据边界条件解c,d,e,f\n",
    "    A = np.empty((4, 6))\n",
    "    z_vector = np.empty((4, 1))\n",
    "\n",
    "    for i, (x1, x2, x3) in enumerate(points):\n",
    "        A[i, :] = [x1 * x2, x1 ** 2, x2 ** 2, x1, x2, 1]\n",
    "        z_vector[i, :] = x3\n",
    "\n",
    "    ab = np.array([AB[0], AB[1]])\n",
    "\n",
    "    A_prime = A[:, 2:]\n",
    "    b = z_vector - A[:, :2] @ ab.reshape(-1, 1)\n",
    "\n",
    "    solution = np.linalg.solve(A_prime, b)\n",
    "    c, d, e, f = solution.flatten()\n",
    "\n",
    "    local_func = func0.evalf(\n",
    "        subs={sp.symbols('a'): AB[0], sp.symbols('b'): AB[1], sp.symbols('c'): c, sp.symbols('d'): d,\n",
    "              sp.symbols('e'): e, sp.symbols('f'): f})\n",
    "    return local_func\n",
    "\n",
    "def calculate_area(l_fc):\n",
    "    x_bounds = fsolve(lambda xx: boundary(xx, 0), [-1, 1])  # 和边界条件一起改\n",
    "    area, error = dblquad(lambda x1, x2: area_element(x1, x2, l_fc), x_bounds[0], x_bounds[1],\n",
    "                          lambda x1: y_bounds(x1)[0], lambda x1: y_bounds(x1)[1])\n",
    "    return area"
   ]
  },
  {
   "cell_type": "code",
   "execution_count": 10,
   "metadata": {},
   "outputs": [],
   "source": [
    "def numerical_gradient(f1, x00, area0, epsilon=1e-5):  # 计算f1位于x00处的数值梯度\n",
    "    grad = np.zeros_like(x00)\n",
    "    for i in range(x00.shape[0]):\n",
    "        x_plus = x00.copy()\n",
    "        x_plus[i] += epsilon\n",
    "        grad[i] = (f1(x_plus) - area0) / epsilon\n",
    "    print('gradient:', grad)\n",
    "    return grad\n",
    "\n",
    "def gradient_descent(starting_point, learning_rate, iterations):\n",
    "    p = np.array(starting_point)\n",
    "    p = p.astype(np.float64)  # 初始点位于starting point\n",
    "    x1_list = []  # 点列表\n",
    "    x2_list = []\n",
    "    for _ in range(iterations):\n",
    "        print('step:', _+1)\n",
    "        print('point:', p)\n",
    "        x1_list.append(p[0])\n",
    "        x2_list.append(p[1])\n",
    "        lc_func = calculate_function(p) # 计算曲面方程\n",
    "        print('function:', lc_func)\n",
    "        area = calculate_area(lc_func)\n",
    "        print('area:', area)\n",
    "        grad = numerical_gradient(lambda xx: calculate_area(calculate_function(xx)), p, area)  # 计算数值梯度\n",
    "        p -= learning_rate * grad  # 按梯度移动点p\n",
    "    return p, x1_list, x2_list"
   ]
  },
  {
   "cell_type": "code",
   "execution_count": null,
   "metadata": {},
   "outputs": [],
   "source": [
    "starting_point = [0, 0]\n",
    "learning_rate = 0.01\n",
    "iterations = 1000\n",
    "\n",
    "(min_point, x1_list, x2_list) = gradient_descent(starting_point, learning_rate, iterations)\n",
    "plt.plot(x1_list, x2_list)\n",
    "plt.show()\n",
    "\n",
    "print(\"面积极小时曲面:\", f'{min_point[0]}*x*y + {min_point[1]}*x**2 + {c}*y**2 + {d}*x + {e}*y + {f}')\n",
    "print(\"极小值:\", calculate_area(calculate_function(min_point)))\n"
   ]
  },
  {
   "cell_type": "code",
   "execution_count": null,
   "metadata": {},
   "outputs": [],
   "source": []
  }
 ],
 "metadata": {
  "kernelspec": {
   "display_name": "Python 3",
   "language": "python",
   "name": "python3"
  },
  "language_info": {
   "codemirror_mode": {
    "name": "ipython",
    "version": 3
   },
   "file_extension": ".py",
   "mimetype": "text/x-python",
   "name": "python",
   "nbconvert_exporter": "python",
   "pygments_lexer": "ipython3",
   "version": "3.11.4"
  }
 },
 "nbformat": 4,
 "nbformat_minor": 2
}
